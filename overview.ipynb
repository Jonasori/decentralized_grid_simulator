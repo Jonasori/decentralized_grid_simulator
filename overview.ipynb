{
 "cells": [
  {
   "cell_type": "code",
   "execution_count": null,
   "metadata": {},
   "outputs": [],
   "source": [
    "import matplotlib.pyplot as plt\n",
    "import numpy as np\n",
    "import pandas as pd\n",
    "\n",
    "from node import Node"
   ]
  },
  {
   "cell_type": "markdown",
   "metadata": {},
   "source": [
    "## Overview\n",
    "I want to model the dynamics of a microgrid. Particularly interested in allowing asynchronous updating, meaning that we need an OOP model, rather than a matrix-based one (which would require full-grid timestepping). The trouble with this is that it makes this process much harder to parallelize\n",
    "\n",
    "Resources:\n",
    "- NE Real time energy usage dashboard: https://www.eia.gov/beta/electricity/gridmonitor/dashboard/electric_overview/regional/REG-NE"
   ]
  },
  {
   "cell_type": "code",
   "execution_count": 619,
   "metadata": {},
   "outputs": [],
   "source": []
  },
  {
   "cell_type": "markdown",
   "metadata": {},
   "source": [
    "## Try running it!"
   ]
  },
  {
   "cell_type": "code",
   "execution_count": 620,
   "metadata": {},
   "outputs": [],
   "source": [
    "lat, lon, mu = 42.477642, -71.130318, 0.1  # Boston\n",
    "get_pos = lambda lat, lon, mu: [np.random.normal(lon, mu), np.random.normal(lat, mu)]\n",
    "\n",
    "generate_randomly = False\n",
    "if generate_randomly:\n",
    "    capacities = np.append(1000, np.zeros(10))\n",
    "    nodes = np.array([Node(get_pos(lat, lon, mu), storage_capacity=c) for c in capacities])\n",
    "    \n",
    "else:\n",
    "    nodes = np.array([OldHome(get_pos(lat, lon, mu)), OldHome(get_pos(lat, lon, mu)), PowerPlant(get_pos(lat, lon, mu))])\n",
    "    \n",
    "grid = EnergyGrid(nodes)\n",
    "grid.make_neighbors()\n",
    "\n",
    "# MVP Demo\n",
    "grid.nodes[0].step(new_demand=10, new_supply=0)\n",
    "grid.nodes[1].step(new_demand=10, new_supply=0)"
   ]
  },
  {
   "cell_type": "code",
   "execution_count": null,
   "metadata": {},
   "outputs": [],
   "source": [
    "grid.run_simulation()"
   ]
  },
  {
   "cell_type": "code",
   "execution_count": 624,
   "metadata": {},
   "outputs": [
    {
     "data": {
      "text/html": [
       "<div>\n",
       "<style scoped>\n",
       "    .dataframe tbody tr th:only-of-type {\n",
       "        vertical-align: middle;\n",
       "    }\n",
       "\n",
       "    .dataframe tbody tr th {\n",
       "        vertical-align: top;\n",
       "    }\n",
       "\n",
       "    .dataframe thead th {\n",
       "        text-align: right;\n",
       "    }\n",
       "</style>\n",
       "<table border=\"1\" class=\"dataframe\">\n",
       "  <thead>\n",
       "    <tr style=\"text-align: right;\">\n",
       "      <th></th>\n",
       "      <th>source</th>\n",
       "      <th>dest</th>\n",
       "      <th>amount</th>\n",
       "    </tr>\n",
       "    <tr>\n",
       "      <th>timestamp</th>\n",
       "      <th></th>\n",
       "      <th></th>\n",
       "      <th></th>\n",
       "    </tr>\n",
       "  </thead>\n",
       "  <tbody>\n",
       "    <tr>\n",
       "      <th>2019-07-02 05:00:00</th>\n",
       "      <td>&lt;__main__.PowerPlant object at 0x7fce39f99290&gt;</td>\n",
       "      <td>&lt;__main__.OldHome object at 0x7fce9db92390&gt;</td>\n",
       "      <td>0.289172</td>\n",
       "    </tr>\n",
       "    <tr>\n",
       "      <th>2019-07-02 06:00:00</th>\n",
       "      <td>&lt;__main__.PowerPlant object at 0x7fce39f99290&gt;</td>\n",
       "      <td>&lt;__main__.OldHome object at 0x7fce9db92390&gt;</td>\n",
       "      <td>0.299073</td>\n",
       "    </tr>\n",
       "    <tr>\n",
       "      <th>2019-07-02 07:00:00</th>\n",
       "      <td>&lt;__main__.PowerPlant object at 0x7fce39f99290&gt;</td>\n",
       "      <td>&lt;__main__.OldHome object at 0x7fce9db92390&gt;</td>\n",
       "      <td>0.365433</td>\n",
       "    </tr>\n",
       "    <tr>\n",
       "      <th>2019-07-02 08:00:00</th>\n",
       "      <td>&lt;__main__.PowerPlant object at 0x7fce39f99290&gt;</td>\n",
       "      <td>&lt;__main__.OldHome object at 0x7fce9db92390&gt;</td>\n",
       "      <td>0.384823</td>\n",
       "    </tr>\n",
       "  </tbody>\n",
       "</table>\n",
       "</div>"
      ],
      "text/plain": [
       "                                                             source  \\\n",
       "timestamp                                                             \n",
       "2019-07-02 05:00:00  <__main__.PowerPlant object at 0x7fce39f99290>   \n",
       "2019-07-02 06:00:00  <__main__.PowerPlant object at 0x7fce39f99290>   \n",
       "2019-07-02 07:00:00  <__main__.PowerPlant object at 0x7fce39f99290>   \n",
       "2019-07-02 08:00:00  <__main__.PowerPlant object at 0x7fce39f99290>   \n",
       "\n",
       "                                                            dest    amount  \n",
       "timestamp                                                                   \n",
       "2019-07-02 05:00:00  <__main__.OldHome object at 0x7fce9db92390>  0.289172  \n",
       "2019-07-02 06:00:00  <__main__.OldHome object at 0x7fce9db92390>  0.299073  \n",
       "2019-07-02 07:00:00  <__main__.OldHome object at 0x7fce9db92390>  0.365433  \n",
       "2019-07-02 08:00:00  <__main__.OldHome object at 0x7fce9db92390>  0.384823  "
      ]
     },
     "execution_count": 624,
     "metadata": {},
     "output_type": "execute_result"
    }
   ],
   "source": [
    "grid.nodes[0].get_transaction_logs(t_end=pd.to_datetime(\"2019-07-02 08:00:00\"))"
   ]
  },
  {
   "cell_type": "code",
   "execution_count": 548,
   "metadata": {},
   "outputs": [],
   "source": [
    "grid.vis"
   ]
  },
  {
   "cell_type": "code",
   "execution_count": null,
   "metadata": {},
   "outputs": [],
   "source": []
  },
  {
   "cell_type": "code",
   "execution_count": null,
   "metadata": {},
   "outputs": [],
   "source": []
  }
 ],
 "metadata": {
  "kernelspec": {
   "display_name": "personal",
   "language": "python",
   "name": "personal"
  },
  "language_info": {
   "codemirror_mode": {
    "name": "ipython",
    "version": 3
   },
   "file_extension": ".py",
   "mimetype": "text/x-python",
   "name": "python",
   "nbconvert_exporter": "python",
   "pygments_lexer": "ipython3",
   "version": "3.7.9"
  }
 },
 "nbformat": 4,
 "nbformat_minor": 4
}
